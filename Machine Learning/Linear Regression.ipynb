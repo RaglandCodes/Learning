{
 "cells": [
  {
   "cell_type": "code",
   "execution_count": 15,
   "metadata": {},
   "outputs": [],
   "source": [
    "import pandas as pd\n",
    "import matplotlib.pyplot as plt"
   ]
  },
  {
   "cell_type": "code",
   "execution_count": 16,
   "metadata": {},
   "outputs": [
    {
     "data": {
      "text/html": [
       "<div>\n",
       "<style scoped>\n",
       "    .dataframe tbody tr th:only-of-type {\n",
       "        vertical-align: middle;\n",
       "    }\n",
       "\n",
       "    .dataframe tbody tr th {\n",
       "        vertical-align: top;\n",
       "    }\n",
       "\n",
       "    .dataframe thead th {\n",
       "        text-align: right;\n",
       "    }\n",
       "</style>\n",
       "<table border=\"1\" class=\"dataframe\">\n",
       "  <thead>\n",
       "    <tr style=\"text-align: right;\">\n",
       "      <th></th>\n",
       "      <th>longitude</th>\n",
       "      <th>latitude</th>\n",
       "      <th>housing_median_age</th>\n",
       "      <th>total_rooms</th>\n",
       "      <th>total_bedrooms</th>\n",
       "      <th>population</th>\n",
       "      <th>households</th>\n",
       "      <th>median_income</th>\n",
       "      <th>median_house_value</th>\n",
       "      <th>ocean_proximity</th>\n",
       "    </tr>\n",
       "  </thead>\n",
       "  <tbody>\n",
       "    <tr>\n",
       "      <th>19002</th>\n",
       "      <td>-121.95</td>\n",
       "      <td>38.34</td>\n",
       "      <td>9.0</td>\n",
       "      <td>4999.0</td>\n",
       "      <td>874.0</td>\n",
       "      <td>2687.0</td>\n",
       "      <td>817.0</td>\n",
       "      <td>4.2324</td>\n",
       "      <td>142100.0</td>\n",
       "      <td>INLAND</td>\n",
       "    </tr>\n",
       "    <tr>\n",
       "      <th>5362</th>\n",
       "      <td>-118.41</td>\n",
       "      <td>34.03</td>\n",
       "      <td>36.0</td>\n",
       "      <td>3053.0</td>\n",
       "      <td>635.0</td>\n",
       "      <td>1234.0</td>\n",
       "      <td>577.0</td>\n",
       "      <td>5.1637</td>\n",
       "      <td>500001.0</td>\n",
       "      <td>&lt;1H OCEAN</td>\n",
       "    </tr>\n",
       "    <tr>\n",
       "      <th>14390</th>\n",
       "      <td>-117.23</td>\n",
       "      <td>32.74</td>\n",
       "      <td>35.0</td>\n",
       "      <td>2615.0</td>\n",
       "      <td>525.0</td>\n",
       "      <td>1312.0</td>\n",
       "      <td>547.0</td>\n",
       "      <td>4.1339</td>\n",
       "      <td>238200.0</td>\n",
       "      <td>NEAR OCEAN</td>\n",
       "    </tr>\n",
       "    <tr>\n",
       "      <th>8860</th>\n",
       "      <td>-118.37</td>\n",
       "      <td>34.06</td>\n",
       "      <td>36.0</td>\n",
       "      <td>1661.0</td>\n",
       "      <td>395.0</td>\n",
       "      <td>690.0</td>\n",
       "      <td>365.0</td>\n",
       "      <td>3.3438</td>\n",
       "      <td>500001.0</td>\n",
       "      <td>&lt;1H OCEAN</td>\n",
       "    </tr>\n",
       "    <tr>\n",
       "      <th>8956</th>\n",
       "      <td>-118.38</td>\n",
       "      <td>34.01</td>\n",
       "      <td>18.0</td>\n",
       "      <td>9528.0</td>\n",
       "      <td>2075.0</td>\n",
       "      <td>3922.0</td>\n",
       "      <td>1920.0</td>\n",
       "      <td>4.7612</td>\n",
       "      <td>304100.0</td>\n",
       "      <td>&lt;1H OCEAN</td>\n",
       "    </tr>\n",
       "  </tbody>\n",
       "</table>\n",
       "</div>"
      ],
      "text/plain": [
       "       longitude  latitude  housing_median_age  total_rooms  total_bedrooms  \\\n",
       "19002    -121.95     38.34                 9.0       4999.0           874.0   \n",
       "5362     -118.41     34.03                36.0       3053.0           635.0   \n",
       "14390    -117.23     32.74                35.0       2615.0           525.0   \n",
       "8860     -118.37     34.06                36.0       1661.0           395.0   \n",
       "8956     -118.38     34.01                18.0       9528.0          2075.0   \n",
       "\n",
       "       population  households  median_income  median_house_value  \\\n",
       "19002      2687.0       817.0         4.2324            142100.0   \n",
       "5362       1234.0       577.0         5.1637            500001.0   \n",
       "14390      1312.0       547.0         4.1339            238200.0   \n",
       "8860        690.0       365.0         3.3438            500001.0   \n",
       "8956       3922.0      1920.0         4.7612            304100.0   \n",
       "\n",
       "      ocean_proximity  \n",
       "19002          INLAND  \n",
       "5362        <1H OCEAN  \n",
       "14390      NEAR OCEAN  \n",
       "8860        <1H OCEAN  \n",
       "8956        <1H OCEAN  "
      ]
     },
     "execution_count": 16,
     "metadata": {},
     "output_type": "execute_result"
    }
   ],
   "source": [
    "dataset = pd.read_csv(\"../../ML/data/housing.csv\")\n",
    "dataset.sample(5)\n"
   ]
  },
  {
   "cell_type": "code",
   "execution_count": 17,
   "metadata": {},
   "outputs": [
    {
     "data": {
      "text/plain": [
       "[<matplotlib.lines.Line2D at 0x26915e9e4a8>]"
      ]
     },
     "execution_count": 17,
     "metadata": {},
     "output_type": "execute_result"
    },
    {
     "data": {
      "image/png": "[encoded data removed]",
      "text/plain": [
       "<Figure size 432x288 with 1 Axes>"
      ]
     },
     "metadata": {
      "needs_background": "light"
     },
     "output_type": "display_data"
    }
   ],
   "source": [
    "#dataset\n",
    "dataset = dataset.loc[dataset['median_house_value'] < 500000]\n",
    "\n",
    "dataset = dataset.sample(300)\n",
    "\n",
    "x = dataset['median_house_value']\n",
    "y = dataset['median_income']\n",
    "\n",
    "plt.plot(x, y, '.')\n"
   ]
  },
  {
   "cell_type": "code",
   "execution_count": 18,
   "metadata": {},
   "outputs": [],
   "source": [
    "def cost_function(x, y, weight, bias):\n",
    "    #Mean squared error\n",
    "    total_error = 0.0\n",
    "    n = len(x)\n",
    "    for i in range(n):\n",
    "        total_error += (y[i] - ((weight*x[i]) + bias))**2\n",
    "        \n",
    "    return total_error/n\n",
    "        "
   ]
  },
  {
   "cell_type": "code",
   "execution_count": 19,
   "metadata": {},
   "outputs": [],
   "source": [
    "def update_weights(x, y, weight, bias, learning_rate):\n",
    "    weight_deriv = 0\n",
    "    bias_deriv = 0\n",
    "    n = len(x)\n",
    "\n",
    "    for i in range(n):\n",
    "        # Calculate partial derivatives\n",
    "        # -2x(y - (mx + b))\n",
    "        weight_deriv += -2*x[i] * (y[i] - (weight*x[i] + bias))\n",
    "\n",
    "        # -2(y - (mx + b))\n",
    "        bias_deriv += -2*(y[i] - (weight*x[i] + bias))\n",
    "\n",
    "    # We subtract because the derivatives point in direction of steepest ascent\n",
    "    weight -= (weight_deriv / y) * learning_rate\n",
    "    bias -= (bias_deriv / y) * learning_rate\n",
    "\n",
    "    return weight, bias"
   ]
  },
  {
   "cell_type": "code",
   "execution_count": 20,
   "metadata": {},
   "outputs": [],
   "source": [
    "def train(x, y, weight, bias, learning_rate, iters):\n",
    "    cost_history = []\n",
    "\n",
    "    for i in range(iters):\n",
    "        weight,bias = update_weights(x, y, weight, bias, learning_rate)\n",
    "\n",
    "        #Calculate cost for auditing purposes\n",
    "        cost = cost_function(x, y, weight, bias)\n",
    "        cost_history.append(cost)\n",
    "\n",
    "        # Log Progress\n",
    "        if i % 10 == 0:\n",
    "            print(\"iter={:d}    weight={:.2f}    bias={:.4f}    cost={:.2}\".format(i, weight, bias, cost))\n",
    "\n",
    "    return weight, bias, cost_history"
   ]
  },
  {
   "cell_type": "code",
   "execution_count": 25,
   "metadata": {},
   "outputs": [
    {
     "ename": "TypeError",
     "evalue": "unsupported operand type(s) for /: 'float' and 'list'",
     "output_type": "error",
     "traceback": [
      "\u001b[1;31m---------------------------------------------------------------------------\u001b[0m",
      "\u001b[1;31mTypeError\u001b[0m                                 Traceback (most recent call last)",
      "\u001b[1;32m<ipython-input-25-c043c5798d47>\u001b[0m in \u001b[0;36m<module>\u001b[1;34m\u001b[0m\n\u001b[1;32m----> 1\u001b[1;33m \u001b[0mtrain\u001b[0m\u001b[1;33m(\u001b[0m\u001b[0mlist\u001b[0m\u001b[1;33m(\u001b[0m\u001b[0mx\u001b[0m\u001b[1;33m)\u001b[0m\u001b[1;33m,\u001b[0m \u001b[0mlist\u001b[0m\u001b[1;33m(\u001b[0m\u001b[0my\u001b[0m\u001b[1;33m)\u001b[0m\u001b[1;33m,\u001b[0m \u001b[1;36m1\u001b[0m\u001b[1;33m,\u001b[0m \u001b[1;36m1\u001b[0m\u001b[1;33m,\u001b[0m \u001b[1;36m0.01\u001b[0m\u001b[1;33m,\u001b[0m \u001b[1;36m100\u001b[0m\u001b[1;33m)\u001b[0m\u001b[1;33m\u001b[0m\u001b[0m\n\u001b[0m\u001b[0;32m      2\u001b[0m \u001b[1;31m#print(type(list(x)))\u001b[0m\u001b[1;33m\u001b[0m\u001b[1;33m\u001b[0m\u001b[0m\n",
      "\u001b[1;32m<ipython-input-20-89c71fe6c4a6>\u001b[0m in \u001b[0;36mtrain\u001b[1;34m(x, y, weight, bias, learning_rate, iters)\u001b[0m\n\u001b[0;32m      3\u001b[0m \u001b[1;33m\u001b[0m\u001b[0m\n\u001b[0;32m      4\u001b[0m     \u001b[1;32mfor\u001b[0m \u001b[0mi\u001b[0m \u001b[1;32min\u001b[0m \u001b[0mrange\u001b[0m\u001b[1;33m(\u001b[0m\u001b[0miters\u001b[0m\u001b[1;33m)\u001b[0m\u001b[1;33m:\u001b[0m\u001b[1;33m\u001b[0m\u001b[0m\n\u001b[1;32m----> 5\u001b[1;33m         \u001b[0mweight\u001b[0m\u001b[1;33m,\u001b[0m\u001b[0mbias\u001b[0m \u001b[1;33m=\u001b[0m \u001b[0mupdate_weights\u001b[0m\u001b[1;33m(\u001b[0m\u001b[0mx\u001b[0m\u001b[1;33m,\u001b[0m \u001b[0my\u001b[0m\u001b[1;33m,\u001b[0m \u001b[0mweight\u001b[0m\u001b[1;33m,\u001b[0m \u001b[0mbias\u001b[0m\u001b[1;33m,\u001b[0m \u001b[0mlearning_rate\u001b[0m\u001b[1;33m)\u001b[0m\u001b[1;33m\u001b[0m\u001b[0m\n\u001b[0m\u001b[0;32m      6\u001b[0m \u001b[1;33m\u001b[0m\u001b[0m\n\u001b[0;32m      7\u001b[0m         \u001b[1;31m#Calculate cost for auditing purposes\u001b[0m\u001b[1;33m\u001b[0m\u001b[1;33m\u001b[0m\u001b[0m\n",
      "\u001b[1;32m<ipython-input-19-dcd3863732de>\u001b[0m in \u001b[0;36mupdate_weights\u001b[1;34m(x, y, weight, bias, learning_rate)\u001b[0m\n\u001b[0;32m     13\u001b[0m \u001b[1;33m\u001b[0m\u001b[0m\n\u001b[0;32m     14\u001b[0m     \u001b[1;31m# We subtract because the derivatives point in direction of steepest ascent\u001b[0m\u001b[1;33m\u001b[0m\u001b[1;33m\u001b[0m\u001b[0m\n\u001b[1;32m---> 15\u001b[1;33m     \u001b[0mweight\u001b[0m \u001b[1;33m-=\u001b[0m \u001b[1;33m(\u001b[0m\u001b[0mweight_deriv\u001b[0m \u001b[1;33m/\u001b[0m \u001b[0my\u001b[0m\u001b[1;33m)\u001b[0m \u001b[1;33m*\u001b[0m \u001b[0mlearning_rate\u001b[0m\u001b[1;33m\u001b[0m\u001b[0m\n\u001b[0m\u001b[0;32m     16\u001b[0m     \u001b[0mbias\u001b[0m \u001b[1;33m-=\u001b[0m \u001b[1;33m(\u001b[0m\u001b[0mbias_deriv\u001b[0m \u001b[1;33m/\u001b[0m \u001b[0my\u001b[0m\u001b[1;33m)\u001b[0m \u001b[1;33m*\u001b[0m \u001b[0mlearning_rate\u001b[0m\u001b[1;33m\u001b[0m\u001b[0m\n\u001b[0;32m     17\u001b[0m \u001b[1;33m\u001b[0m\u001b[0m\n",
      "\u001b[1;31mTypeError\u001b[0m: unsupported operand type(s) for /: 'float' and 'list'"
     ]
    }
   ],
   "source": [
    "train(list(x), list(y), 1, 1, 0.01, 100)\n",
    "#print(type(list(x)))"
   ]
  },
  {
   "cell_type": "code",
   "execution_count": 30,
   "metadata": {},
   "outputs": [
    {
     "name": "stdout",
     "output_type": "stream",
     "text": [
      "[217000.0, 295300.0, 226300.0, 196600.0, 119000.0, 162800.0, 313900.0, 238600.0, 125000.0, 279900.0, 120000.0, 321600.0, 248000.0, 257500.0, 204500.0, 74100.0, 477800.0, 96400.0, 183300.0, 178100.0, 367100.0, 106400.0, 486800.0, 165300.0, 118800.0, 200000.0, 306700.0, 222000.0, 195000.0, 150600.0, 161000.0, 183900.0, 217800.0, 159800.0, 61300.0, 284900.0, 344000.0, 283000.0, 407200.0, 81400.0, 57000.0, 63400.0, 135400.0, 120200.0, 166800.0, 170200.0, 224800.0, 141400.0, 141700.0, 190100.0, 107400.0, 52500.0, 52000.0, 343600.0, 50000.0, 81800.0, 132800.0, 330700.0, 98100.0, 100000.0, 262500.0, 229100.0, 158200.0, 119700.0, 131300.0, 278300.0, 433300.0, 83200.0, 68300.0, 34200.0, 98600.0, 149000.0, 115600.0, 116200.0, 91700.0, 350000.0, 350000.0, 113600.0, 226500.0, 274300.0, 168300.0, 168100.0, 334100.0, 306700.0, 66100.0, 144000.0, 165300.0, 160100.0, 158500.0, 70800.0, 201700.0, 260900.0, 290000.0, 107000.0, 337900.0, 260900.0, 313100.0, 164200.0, 132300.0, 245000.0, 381500.0, 253900.0, 72800.0, 271900.0, 154000.0, 227100.0, 463700.0, 339100.0, 189800.0, 137500.0, 182900.0, 217500.0, 127900.0, 145200.0, 79600.0, 288300.0, 135300.0, 302900.0, 218200.0, 177100.0, 118800.0, 409600.0, 218000.0, 123700.0, 320700.0, 210000.0, 214800.0, 247200.0, 206300.0, 83900.0, 151800.0, 189800.0, 218900.0, 179200.0, 238200.0, 54100.0, 125000.0, 209800.0, 86300.0, 364400.0, 128000.0, 70900.0, 196900.0, 400000.0, 118500.0, 137500.0, 220200.0, 76200.0, 137500.0, 189900.0, 299400.0, 121900.0, 337500.0, 96200.0, 95300.0, 307100.0, 167100.0, 100800.0, 292200.0, 183800.0, 67500.0, 152900.0, 90500.0, 208100.0, 93900.0, 92900.0, 111800.0, 212400.0, 239400.0, 159200.0, 254000.0, 187500.0, 429200.0, 59600.0, 62900.0, 136400.0, 65500.0, 343100.0, 293000.0, 450000.0, 58400.0, 140200.0, 435900.0, 240000.0, 275000.0, 186200.0, 83100.0, 136200.0, 219400.0, 245000.0, 61200.0, 174100.0, 110400.0, 177500.0, 350000.0, 170000.0, 235600.0, 68800.0, 71000.0, 225000.0, 261300.0, 191800.0, 320800.0, 363100.0, 286600.0, 79700.0, 185600.0, 115100.0, 105200.0, 246700.0, 223700.0, 140300.0, 186900.0, 145200.0, 146400.0, 224100.0, 127700.0, 227000.0, 178200.0, 232200.0, 56700.0, 136200.0, 47600.0, 152900.0, 250900.0, 181300.0, 182900.0, 172500.0, 173600.0, 400000.0, 118500.0, 154400.0, 354400.0, 452600.0, 233000.0, 160700.0, 289600.0, 100100.0, 103600.0, 394400.0, 163100.0, 179800.0, 234600.0, 81800.0, 192200.0, 100000.0, 93200.0, 236700.0, 305200.0, 158400.0, 142200.0, 261100.0, 126600.0, 219700.0, 127600.0, 198000.0, 235600.0, 393500.0, 87500.0, 270600.0, 363500.0, 226200.0, 208100.0, 61500.0, 260500.0, 164700.0, 125400.0, 61200.0, 162900.0, 123400.0, 154600.0, 83800.0, 110800.0, 339700.0, 149000.0, 270400.0, 348100.0, 190300.0, 417000.0, 119000.0, 114700.0, 67500.0, 96300.0, 132200.0, 396400.0, 113700.0, 87500.0, 91900.0, 61700.0, 150000.0, 290900.0, 193800.0, 102600.0, 122500.0, 231700.0, 251200.0, 171300.0, 156300.0, 78800.0, 91400.0]\n",
      "[5.7078, 4.8036, 5.1205, 4.0469, 3.5652, 4.1705, 4.8365, 4.4286, 2.3173, 3.8287, 2.0556, 3.2946, 6.3178, 3.1932, 3.1656, 1.1386, 7.9213, 2.6765, 3.4013, 3.3542, 6.0, 3.1028, 4.1797, 3.875, 2.3355, 2.2344, 2.2188, 4.825, 1.7031, 3.4130000000000003, 3.1713, 3.7917, 2.9405, 2.8892, 2.5313, 6.6539, 8.4699, 5.0, 5.0774, 2.3783, 1.7885, 2.25, 2.0651, 2.125, 3.0755, 4.0962, 4.5294, 3.9702, 2.0185, 4.7, 3.9265, 1.4, 1.7292, 5.6629, 1.7727, 3.8, 2.2278, 5.7422, 3.2216, 2.375, 4.2344, 4.1304, 3.0491, 2.9911, 2.0114, 4.5554, 3.6065, 3.6, 1.1806, 1.0667, 3.1838, 2.9315, 2.9821, 2.3859, 3.2868, 2.9934, 4.2639, 2.0089, 4.125, 2.4835, 3.185, 3.8661, 4.4191, 4.0793, 2.2898, 2.5536, 3.375, 3.2143, 4.0337, 1.1687, 5.0639, 5.3398, 3.5865, 2.6964, 6.3489, 4.5, 4.1554, 3.2806, 2.8403, 6.0516, 4.0893, 2.1542, 2.1061, 5.9838, 5.0631, 2.6208, 7.313, 4.056, 4.3438, 2.3266, 5.2759, 5.3344, 3.33, 3.3462, 2.0938, 4.2136, 1.9257, 5.3922, 3.8792, 5.2898, 1.742, 4.2415, 2.5372, 2.5035, 6.4288, 3.5603, 4.1615, 5.2998, 1.1125, 2.4219, 4.0521, 4.46, 4.4881, 1.2875, 5.0325, 1.5464, 7.3004, 5.6674, 2.5363, 4.1661, 2.6667, 2.1139, 4.32, 4.7773, 3.175, 2.2596, 5.1463, 3.1906, 2.483, 2.4185, 6.3303, 1.7378, 4.0391, 1.3134, 2.5101, 2.8438, 2.7409, 3.0089, 3.575, 3.7212, 1.2667, 3.9818, 2.7562, 3.9712, 4.3906, 3.3793, 3.1736, 5.2034, 5.2903, 3.2411, 5.1784, 4.7917, 4.355, 2.5388, 2.2462, 4.3162, 2.1898, 5.9158, 7.0712, 3.6667, 2.401, 2.2366, 6.7413, 5.7759, 6.6783, 1.9647, 2.0875, 2.5885, 4.5217, 3.1742, 2.0463, 4.8274, 1.7969, 2.2284, 3.8529, 3.8333, 6.0102, 1.7463, 1.474, 3.05, 2.1719, 3.4286, 3.2121, 4.0229, 8.0082, 1.8219999999999998, 4.75, 3.5223, 2.8783, 5.431, 4.6429, 3.89, 3.5848, 3.0588, 2.1979, 3.9156, 2.2, 4.7216, 3.325, 5.5449, 0.4999, 2.5562, 1.6469, 2.2788, 4.7125, 5.9202, 2.4526, 4.1163, 4.275, 2.9052, 3.925, 4.6875, 6.1464, 4.9125, 4.3145, 3.4125, 5.8374, 3.5522, 3.5461, 6.2275, 2.5132, 3.2439999999999998, 3.1115, 3.025, 3.7813, 1.7083, 1.4917, 6.3199, 3.3447, 3.5532, 4.6914, 6.0842, 4.0619, 4.6226, 3.7619, 3.3152, 2.6901, 4.7841, 2.213, 4.8059, 5.3705, 2.2656, 5.3321, 1.7422, 5.5918, 5.7321, 3.3438, 1.735, 2.6384, 2.4022, 2.3917, 3.0721, 3.1204, 6.3373, 3.3578, 5.3462, 3.287, 4.5321, 5.5902, 3.0, 3.2219, 2.6493, 1.9556, 5.575, 6.6013, 3.0354, 1.2056, 3.1094, 1.7292, 3.1142, 3.9722, 5.875, 2.0547, 3.1042, 2.7139, 3.5208, 4.0625, 1.6156, 2.1653, 3.5987]\n"
     ]
    }
   ],
   "source": [
    "print((list(x)))\n",
    "print((list(y)))"
   ]
  }
 ],
 "metadata": {
  "kernelspec": {
   "display_name": "Python 3",
   "language": "python",
   "name": "python3"
  },
  "language_info": {
   "codemirror_mode": {
    "name": "ipython",
    "version": 3
   },
   "file_extension": ".py",
   "mimetype": "text/x-python",
   "name": "python",
   "nbconvert_exporter": "python",
   "pygments_lexer": "ipython3",
   "version": "3.6.3"
  }
 },
 "nbformat": 4,
 "nbformat_minor": 2
}
