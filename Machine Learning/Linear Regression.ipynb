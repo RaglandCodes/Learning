{
 "cells": [
  {
   "cell_type": "code",
   "execution_count": 11,
   "metadata": {},
   "outputs": [],
   "source": [
    "import pandas as pd\n",
    "import matplotlib.pyplot as plt"
   ]
  },
  {
   "cell_type": "code",
   "execution_count": 49,
   "metadata": {},
   "outputs": [
    {
     "data": {
      "text/html": [
       "<div>\n",
       "<style scoped>\n",
       "    .dataframe tbody tr th:only-of-type {\n",
       "        vertical-align: middle;\n",
       "    }\n",
       "\n",
       "    .dataframe tbody tr th {\n",
       "        vertical-align: top;\n",
       "    }\n",
       "\n",
       "    .dataframe thead th {\n",
       "        text-align: right;\n",
       "    }\n",
       "</style>\n",
       "<table border=\"1\" class=\"dataframe\">\n",
       "  <thead>\n",
       "    <tr style=\"text-align: right;\">\n",
       "      <th></th>\n",
       "      <th>longitude</th>\n",
       "      <th>latitude</th>\n",
       "      <th>housing_median_age</th>\n",
       "      <th>total_rooms</th>\n",
       "      <th>total_bedrooms</th>\n",
       "      <th>population</th>\n",
       "      <th>households</th>\n",
       "      <th>median_income</th>\n",
       "      <th>median_house_value</th>\n",
       "      <th>ocean_proximity</th>\n",
       "    </tr>\n",
       "  </thead>\n",
       "  <tbody>\n",
       "    <tr>\n",
       "      <th>14962</th>\n",
       "      <td>-116.91</td>\n",
       "      <td>32.75</td>\n",
       "      <td>5.0</td>\n",
       "      <td>8710.0</td>\n",
       "      <td>1614.0</td>\n",
       "      <td>4372.0</td>\n",
       "      <td>1527.0</td>\n",
       "      <td>4.7813</td>\n",
       "      <td>240900.0</td>\n",
       "      <td>&lt;1H OCEAN</td>\n",
       "    </tr>\n",
       "    <tr>\n",
       "      <th>17100</th>\n",
       "      <td>-122.26</td>\n",
       "      <td>37.45</td>\n",
       "      <td>17.0</td>\n",
       "      <td>2742.0</td>\n",
       "      <td>441.0</td>\n",
       "      <td>986.0</td>\n",
       "      <td>421.0</td>\n",
       "      <td>5.9285</td>\n",
       "      <td>496000.0</td>\n",
       "      <td>NEAR OCEAN</td>\n",
       "    </tr>\n",
       "    <tr>\n",
       "      <th>13981</th>\n",
       "      <td>-117.46</td>\n",
       "      <td>34.85</td>\n",
       "      <td>7.0</td>\n",
       "      <td>9759.0</td>\n",
       "      <td>1816.0</td>\n",
       "      <td>2933.0</td>\n",
       "      <td>1168.0</td>\n",
       "      <td>3.4912</td>\n",
       "      <td>157700.0</td>\n",
       "      <td>INLAND</td>\n",
       "    </tr>\n",
       "    <tr>\n",
       "      <th>14287</th>\n",
       "      <td>-117.12</td>\n",
       "      <td>32.73</td>\n",
       "      <td>50.0</td>\n",
       "      <td>2307.0</td>\n",
       "      <td>424.0</td>\n",
       "      <td>887.0</td>\n",
       "      <td>356.0</td>\n",
       "      <td>3.5156</td>\n",
       "      <td>168800.0</td>\n",
       "      <td>NEAR OCEAN</td>\n",
       "    </tr>\n",
       "    <tr>\n",
       "      <th>9015</th>\n",
       "      <td>-118.68</td>\n",
       "      <td>34.13</td>\n",
       "      <td>9.0</td>\n",
       "      <td>11251.0</td>\n",
       "      <td>1594.0</td>\n",
       "      <td>3029.0</td>\n",
       "      <td>1227.0</td>\n",
       "      <td>6.7273</td>\n",
       "      <td>500001.0</td>\n",
       "      <td>&lt;1H OCEAN</td>\n",
       "    </tr>\n",
       "  </tbody>\n",
       "</table>\n",
       "</div>"
      ],
      "text/plain": [
       "       longitude  latitude  housing_median_age  total_rooms  total_bedrooms  \\\n",
       "14962    -116.91     32.75                 5.0       8710.0          1614.0   \n",
       "17100    -122.26     37.45                17.0       2742.0           441.0   \n",
       "13981    -117.46     34.85                 7.0       9759.0          1816.0   \n",
       "14287    -117.12     32.73                50.0       2307.0           424.0   \n",
       "9015     -118.68     34.13                 9.0      11251.0          1594.0   \n",
       "\n",
       "       population  households  median_income  median_house_value  \\\n",
       "14962      4372.0      1527.0         4.7813            240900.0   \n",
       "17100       986.0       421.0         5.9285            496000.0   \n",
       "13981      2933.0      1168.0         3.4912            157700.0   \n",
       "14287       887.0       356.0         3.5156            168800.0   \n",
       "9015       3029.0      1227.0         6.7273            500001.0   \n",
       "\n",
       "      ocean_proximity  \n",
       "14962       <1H OCEAN  \n",
       "17100      NEAR OCEAN  \n",
       "13981          INLAND  \n",
       "14287      NEAR OCEAN  \n",
       "9015        <1H OCEAN  "
      ]
     },
     "execution_count": 49,
     "metadata": {},
     "output_type": "execute_result"
    }
   ],
   "source": [
    "dataset = pd.read_csv(\"../../ML/data/housing.csv\")\n",
    "dataset.sample(5)\n"
   ]
  },
  {
   "cell_type": "code",
   "execution_count": 59,
   "metadata": {},
   "outputs": [
    {
     "data": {
      "text/plain": [
       "[<matplotlib.lines.Line2D at 0x1ed1049e198>]"
      ]
     },
     "execution_count": 59,
     "metadata": {},
     "output_type": "execute_result"
    },
    {
     "data": {
      "image/png": "[encoded data removed]",
      "text/plain": [
       "<Figure size 432x288 with 1 Axes>"
      ]
     },
     "metadata": {
      "needs_background": "light"
     },
     "output_type": "display_data"
    }
   ],
   "source": [
    "#dataset\n",
    "dataset = dataset.loc[dataset['median_house_value'] < 500000]\n",
    "\n",
    "dataset = dataset.sample(300)\n",
    "\n",
    "x = dataset['median_house_value']\n",
    "y = dataset['median_income']\n",
    "\n",
    "plt.plot(x, y, '.')\n"
   ]
  },
  {
   "cell_type": "code",
   "execution_count": 61,
   "metadata": {},
   "outputs": [],
   "source": [
    "def cost_function(x, y, weight, bias):\n",
    "    #Mean squared error\n",
    "    total_error = 0.0\n",
    "    n = len(x)\n",
    "    for i in range(n):\n",
    "        total_error += (y[i] - ((weight*x[i]) + bias))**2\n",
    "        \n",
    "    return total_error/n\n",
    "        "
   ]
  }
 ],
 "metadata": {
  "kernelspec": {
   "display_name": "Python 3",
   "language": "python",
   "name": "python3"
  },
  "language_info": {
   "codemirror_mode": {
    "name": "ipython",
    "version": 3
   },
   "file_extension": ".py",
   "mimetype": "text/x-python",
   "name": "python",
   "nbconvert_exporter": "python",
   "pygments_lexer": "ipython3",
   "version": "3.6.3"
  }
 },
 "nbformat": 4,
 "nbformat_minor": 2
}
