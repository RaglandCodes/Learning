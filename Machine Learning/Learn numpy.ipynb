{
 "cells": [
  {
   "cell_type": "markdown",
   "metadata": {},
   "source": [
    "Done by following [this](https://www.youtube.com/watch?v=QUT1VHiLmmI) tutorial"
   ]
  },
  {
   "cell_type": "code",
   "execution_count": 1,
   "metadata": {},
   "outputs": [],
   "source": [
    "import numpy as np"
   ]
  },
  {
   "cell_type": "markdown",
   "metadata": {},
   "source": [
    "Initialise numpy array"
   ]
  },
  {
   "cell_type": "code",
   "execution_count": 14,
   "metadata": {},
   "outputs": [
    {
     "name": "stdout",
     "output_type": "stream",
     "text": [
      "a.dtype = int32\n",
      "b.dtype = float64\n",
      "b.shape =  (2, 2)\n",
      "b.ndim =  2\n",
      "\n",
      "\n",
      " c.itemsize =  2\n",
      "d.itemsize =  4\n"
     ]
    }
   ],
   "source": [
    "a = np.array([1, 2, 3])\n",
    "b = np.array([[9.2, 9.0], [5, 5.5]])\n",
    "\n",
    "print(\"a.dtype =\", a.dtype)\n",
    "print(\"b.dtype =\", b.dtype)\n",
    "print(\"b.shape = \", b.shape)\n",
    "print(\"b.ndim = \", b.ndim)"
   ]
  },
  {
   "cell_type": "code",
   "execution_count": 19,
   "metadata": {},
   "outputs": [
    {
     "name": "stdout",
     "output_type": "stream",
     "text": [
      "c.itemsize =  2\n",
      "d.itemsize =  4\n",
      "b.nbytes = 32\n",
      "d.nbytes = 20\n"
     ]
    }
   ],
   "source": [
    "c = np.array([1, 2, 3], dtype='int16')\n",
    "d = np.array([1, 2, 3, 5, 5], dtype='int32')\n",
    "\n",
    "print(\"c.itemsize = \", c.itemsize)\n",
    "print(\"d.itemsize = \", d.itemsize)\n",
    "print(\"b.nbytes =\", b.nbytes )\n",
    "print(\"d.nbytes =\", d.nbytes )"
   ]
  },
  {
   "cell_type": "markdown",
   "metadata": {},
   "source": [
    "Accessing elements"
   ]
  },
  {
   "cell_type": "code",
   "execution_count": 21,
   "metadata": {},
   "outputs": [
    {
     "name": "stdout",
     "output_type": "stream",
     "text": [
      "[[ 1  2  3  4  5  6  7]\n",
      " [ 8  9 10 11 12 13 15]]\n"
     ]
    }
   ],
   "source": [
    "m = np.array([[1, 2, 3, 4, 5, 6, 7], [8, 9, 10, 11, 12, 13, 15]])\n",
    "print(m)"
   ]
  },
  {
   "cell_type": "code",
   "execution_count": 78,
   "metadata": {},
   "outputs": [
    {
     "name": "stdout",
     "output_type": "stream",
     "text": [
      "first row =  [1 2 3 4 5 6 7]\n",
      "first column =  [1 8]\n",
      "elements > 5 [ 6  7  8  9 10 11 12 13 15]\n",
      "elements <= 5 [1 2 3 4 5]\n"
     ]
    }
   ],
   "source": [
    "print(\"first row = \", m[0, :])\n",
    "print(\"first column = \", m[:, 0])\n",
    "print(\"elements > 5\", m[m>5])\n",
    "print(\"elements <= 5\", m[~(m>5)])"
   ]
  },
  {
   "cell_type": "markdown",
   "metadata": {},
   "source": [
    "Initialise arrays"
   ]
  },
  {
   "cell_type": "code",
   "execution_count": 44,
   "metadata": {},
   "outputs": [
    {
     "name": "stdout",
     "output_type": "stream",
     "text": [
      "z =  [[0. 0. 0. 0.]\n",
      " [0. 0. 0. 0.]]\n",
      "\n",
      " o =  [[1. 1. 1. 1.]\n",
      " [1. 1. 1. 1.]]\n",
      "\n",
      " oi =  [[1 1 1 1]\n",
      " [1 1 1 1]]\n",
      "\n",
      " i =  [[1. 0. 0.]\n",
      " [0. 1. 0.]\n",
      " [0. 0. 1.]]\n"
     ]
    }
   ],
   "source": [
    "z = np.zeros((2, 4))\n",
    "o = np.ones((2, 4))\n",
    "oi = np.ones((2, 4), dtype='int32')\n",
    "i = np.identity(3)\n",
    "\n",
    "print(\"z = \", z)\n",
    "print(\"\\n o = \", o)\n",
    "print(\"\\n oi = \", oi)\n",
    "print(\"\\n i = \", i)"
   ]
  },
  {
   "cell_type": "code",
   "execution_count": 31,
   "metadata": {},
   "outputs": [
    {
     "name": "stdout",
     "output_type": "stream",
     "text": [
      "fives =  [[5 5 5 5]\n",
      " [5 5 5 5]\n",
      " [5 5 5 5]\n",
      " [5 5 5 5]]\n"
     ]
    }
   ],
   "source": [
    "fives = np.full((4, 4), 5)\n",
    "\n",
    "#see also np.full_like\n",
    "\n",
    "print(\"fives = \", fives)"
   ]
  },
  {
   "cell_type": "code",
   "execution_count": 45,
   "metadata": {},
   "outputs": [
    {
     "name": "stdout",
     "output_type": "stream",
     "text": [
      "rndm =  [[0.01868578 0.16351111]\n",
      " [0.00391742 0.42414664]]\n",
      "\n",
      "\n",
      " rndm_from_sample =  [[0.91569026 0.00613619 0.04396475 0.90237587]\n",
      " [0.74826412 0.8832449  0.10546059 0.45238119]\n",
      " [0.43434703 0.07704718 0.43853852 0.57524012]\n",
      " [0.15514041 0.93381308 0.52975904 0.5194616 ]]\n",
      "\n",
      "\n",
      " rndm_int =  [[1 1 0 2]\n",
      " [4 4 5 2]\n",
      " [3 1 4 5]\n",
      " [2 4 6 0]]\n"
     ]
    }
   ],
   "source": [
    "rndm = np.random.rand(2, 2)\n",
    "rndm_from_sample = np.random.random_sample(fives.shape)\n",
    "rndm_int = np.random.randint(int('007'), size=fives.shape)\n",
    "\n",
    "print(\"rndm = \", rndm)\n",
    "print(\"\\n\\n rndm_from_sample = \", rndm_from_sample)\n",
    "print(\"\\n\\n rndm_int = \", rndm_int)"
   ]
  },
  {
   "cell_type": "code",
   "execution_count": 47,
   "metadata": {},
   "outputs": [
    {
     "name": "stdout",
     "output_type": "stream",
     "text": [
      "r1 =  [[1 2 3]\n",
      " [1 2 3]\n",
      " [1 2 3]]\n"
     ]
    }
   ],
   "source": [
    "#Repeats\n",
    "\n",
    "repeat = np.array([[1, 2, 3]])\n",
    "\n",
    "r1 = np.repeat(repeat,3, axis=0)\n",
    "\n",
    "print(\"r1 = \", r1)\n"
   ]
  },
  {
   "cell_type": "markdown",
   "metadata": {},
   "source": [
    "Math"
   ]
  },
  {
   "cell_type": "code",
   "execution_count": 66,
   "metadata": {},
   "outputs": [
    {
     "name": "stdout",
     "output_type": "stream",
     "text": [
      "\n",
      "\n",
      "mat + 2 = \n",
      " [[ 3.          4.          5.          6.          3.57079633]\n",
      " [ 4.          5.          6.         57.          3.        ]]\n",
      "\n",
      "\n",
      "mat * 2 = \n",
      " [[  2.           4.           6.           8.           3.14159266]\n",
      " [  4.           6.           8.         110.           2.        ]]\n",
      "\n",
      "\n",
      "mat - 2 = \n",
      " [[-1.          0.          1.          2.         -0.42920367]\n",
      " [ 0.          1.          2.         53.         -1.        ]]\n",
      "\n",
      "\n",
      "mat / 3 = \n",
      " [[ 0.33333333  0.66666667  1.          1.33333333  0.52359878]\n",
      " [ 0.66666667  1.          1.33333333 18.33333333  0.33333333]]\n",
      "\n",
      "\n",
      "mat ^ 3 = \n",
      " [[1.00000000e+00 8.00000000e+00 2.70000000e+01 6.40000000e+01\n",
      "  3.87578461e+00]\n",
      " [8.00000000e+00 2.70000000e+01 6.40000000e+01 1.66375000e+05\n",
      "  1.00000000e+00]]\n",
      "\n",
      "\n",
      "sin(mat) = \n",
      " [[ 0.84147098  0.90929743  0.14112001 -0.7568025   1.        ]\n",
      " [ 0.90929743  0.14112001 -0.7568025  -0.99975517  0.84147098]]\n"
     ]
    }
   ],
   "source": [
    "mat = np.array([[1, 2, 3, 4, 1.57079633], [2, 3, 4, 55, 1]])\n",
    "\n",
    "print(\"\\n\\nmat + 2 = \\n\", mat+2)\n",
    "print(\"\\n\\nmat * 2 = \\n\", mat*2)\n",
    "print(\"\\n\\nmat - 2 = \\n\", mat-2)\n",
    "print(\"\\n\\nmat / 3 = \\n\", mat/3)\n",
    "print(\"\\n\\nmat ^ 3 = \\n\", mat**3)\n",
    "print(\"\\n\\nsin(mat) = \\n\", np.sin(mat))"
   ]
  },
  {
   "cell_type": "code",
   "execution_count": 67,
   "metadata": {},
   "outputs": [
    {
     "name": "stdout",
     "output_type": "stream",
     "text": [
      "mat*mat2 =  [[11.57079633 11.57079633]\n",
      " [65.         65.        ]]\n",
      "|i| =  1.0\n",
      "min(mat) = 1.0  \n",
      " [1. 2. 3. 4. 1.]\n"
     ]
    }
   ],
   "source": [
    "#Algebra\n",
    "mat2 = np.ones((5, 2))\n",
    "\n",
    "\n",
    "print(\"mat*mat2 = \", np.matmul(mat, mat2) )\n",
    "print(\"|i| = \",  np.linalg.det(i))\n",
    "\n",
    "print(\"min(mat) =\", np.min(mat), \" \\n\", np.min(mat, axis=0) )\n",
    "print(\"\")\n"
   ]
  },
  {
   "cell_type": "markdown",
   "metadata": {},
   "source": [
    "Reorganizing"
   ]
  },
  {
   "cell_type": "code",
   "execution_count": 72,
   "metadata": {},
   "outputs": [
    {
     "name": "stdout",
     "output_type": "stream",
     "text": [
      "s1 reshaped =>  [[11 22]\n",
      " [33 44]]\n",
      "s1 and s2 stacked =>  [[11 22 33 44]\n",
      " [99 88 77 66]]\n",
      "s1 and s2 stacked =>  [11 22 33 44 99 88 77 66]\n"
     ]
    }
   ],
   "source": [
    "s1 = np.array([11, 22, 33, 44])\n",
    "s2 = np.array([99, 88, 77, 66])\n",
    "\n",
    "print(\"s1 reshaped => \", s1.reshape(2, 2))\n",
    "print(\"s1 and s2 stacked => \", np.vstack([s1, s2]))\n",
    "print(\"s1 and s2 stacked => \", np.hstack([s1, s2]))"
   ]
  }
 ],
 "metadata": {
  "kernelspec": {
   "display_name": "Python 3",
   "language": "python",
   "name": "python3"
  },
  "language_info": {
   "codemirror_mode": {
    "name": "ipython",
    "version": 3
   },
   "file_extension": ".py",
   "mimetype": "text/x-python",
   "name": "python",
   "nbconvert_exporter": "python",
   "pygments_lexer": "ipython3",
   "version": "3.6.3"
  }
 },
 "nbformat": 4,
 "nbformat_minor": 2
}
